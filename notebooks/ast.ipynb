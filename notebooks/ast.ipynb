{
 "cells": [
  {
   "cell_type": "markdown",
   "metadata": {
    "tags": []
   },
   "source": [
    "# Test LLVM AST Notebook\n",
    "## Author: Yiannis Charalambous"
   ]
  },
  {
   "cell_type": "code",
   "execution_count": 1,
   "metadata": {},
   "outputs": [],
   "source": [
    "import os\n",
    "from clang.cindex import Config\n",
    "import clang.native\n",
    "import clang.cindex\n",
    "import sys\n",
    "from typing import NamedTuple\n",
    "\n",
    "# Connect the Python API of Clang to the libclang.so file bundled in the libclang PyPI package.\n",
    "Config.library_file = os.path.join(\n",
    "    os.path.dirname(clang.native.__file__),\n",
    "    \"libclang.so\",\n",
    ")"
   ]
  },
  {
   "cell_type": "code",
   "execution_count": 2,
   "metadata": {
    "tags": []
   },
   "outputs": [
    {
     "name": "stdout",
     "output_type": "stream",
     "text": [
      "Found a [line=4, col=5]\n",
      "Start: 42, End: 47, Range: 5\n",
      "\n",
      "Found b [line=4, col=8]\n",
      "Start: 42, End: 50, Range: 8\n",
      "\n",
      "Found __VERIFIER_atomic_acquire [line=5, col=6]\n",
      "Start: 52, End: 134, Range: 82\n",
      "\n",
      "Found c [line=10, col=7]\n",
      "Start: 135, End: 224, Range: 89\n",
      "\n",
      "Found d [line=17, col=11]\n",
      "Start: 225, End: 236, Range: 11\n",
      "\n",
      "Found main [line=18, col=5]\n",
      "Start: 238, End: 363, Range: 125\n",
      "\n",
      "Total 6\n"
     ]
    }
   ],
   "source": [
    "FILE = \"../samples/threading.c\"\n",
    "\n",
    "def get_declarations_local(root: clang.cindex.Cursor) -> list[clang.cindex.Cursor]:\n",
    "    declarations: list[clang.cindex.Cursor] = []\n",
    "    declarations_raw: set[str] = {}\n",
    "    # Scan all direct symbols in root.\n",
    "    for child in root.get_children():\n",
    "        #print(f\"Scanning: {child.spelling}\")\n",
    "        node: clang.cindex.Cursor = child\n",
    "        kind: clang.cindex.CursorKind = node.kind\n",
    "        # Check if it is actually from the file.\n",
    "        if kind.is_declaration() and node.storage_class == clang.cindex.StorageClass.NONE:\n",
    "            print(f\"Found {node.spelling} [line={node.location.line}, col={node.location.column}]\")\n",
    "            loc: clang.cindex.SourceRange = node.extent\n",
    "            end: clang.cindex.SourceLocation = loc.end\n",
    "            start: clang.cindex.SourceLocation = loc.start\n",
    "            print(f\"Start: {start.offset}, End: {end.offset}, Range: {end.offset - start.offset}\")\n",
    "            print()\n",
    "            declarations.append(node)\n",
    "    return declarations\n",
    "\n",
    "index: clang.cindex.Index = clang.cindex.Index.create()\n",
    "tu: clang.cindex.TranslationUnit = index.parse(FILE)\n",
    "root: clang.cindex.Cursor = tu.cursor\n",
    "declarations: clang.cindex.Cursor = get_declarations_local(root)\n",
    "\n",
    "print(f\"Total {len(declarations)}\")\n"
   ]
  },
  {
   "cell_type": "markdown",
   "metadata": {
    "tags": []
   },
   "source": [
    "## Reversing Reach AST To Source Code\n",
    "\n",
    "The only issue I have found, multiple declarations in one statement need to be recognized and the nodes combined:\n",
    "\n",
    "```c\n",
    "int a, b;\n",
    "```"
   ]
  },
  {
   "cell_type": "code",
   "execution_count": 3,
   "metadata": {},
   "outputs": [
    {
     "name": "stdout",
     "output_type": "stream",
     "text": [
      "Code for a:\n",
      "```\n",
      "int a\n",
      "```\n",
      "\n",
      "Code for b:\n",
      "```\n",
      "int a, b\n",
      "```\n",
      "\n",
      "Code for __VERIFIER_atomic_acquire():\n",
      "```\n",
      "void __VERIFIER_atomic_acquire(void)\n",
      "{\n",
      "    __VERIFIER_assume(a == 0);\n",
      "    a = 1;\n",
      "}\n",
      "```\n",
      "\n",
      "Code for c(void *):\n",
      "```\n",
      "void *c(void *arg)\n",
      "{\n",
      "    ;\n",
      "    __VERIFIER_atomic_acquire();\n",
      "    b = 1;\n",
      "    return NULL;\n",
      "}\n",
      "```\n",
      "\n",
      "Code for d:\n",
      "```\n",
      "pthread_t d\n",
      "```\n",
      "\n",
      "Code for main():\n",
      "```\n",
      "int main()\n",
      "{\n",
      "    pthread_create(&d, 0, c, 0);\n",
      "    __VERIFIER_atomic_acquire();\n",
      "    if (!b)\n",
      "        assert(0);\n",
      "    return 0;\n",
      "}\n",
      "```\n",
      "\n"
     ]
    }
   ],
   "source": [
    "with open(FILE) as file:\n",
    "    source_code: str = file.read()\n",
    "\n",
    "class Ext(NamedTuple):\n",
    "    start: int\n",
    "    end: int\n",
    "    \n",
    "def get_node_source_code(source_code: str, node: clang.cindex.Cursor) -> str:\n",
    "    loc: clang.cindex.SourceRange = node.extent\n",
    "    start: clang.cindex.SourceLocation = loc.start\n",
    "    end: clang.cindex.SourceLocation = loc.end\n",
    "    return source_code[start.offset:end.offset]\n",
    "\n",
    "for node in declarations:\n",
    "    print(f\"Code for {node.displayname}:\")\n",
    "    print(\"```\")\n",
    "    print(get_node_source_code(source_code, node))\n",
    "    print(\"```\")\n",
    "    print()"
   ]
  },
  {
   "cell_type": "code",
   "execution_count": null,
   "metadata": {},
   "outputs": [],
   "source": []
  }
 ],
 "metadata": {
  "kernelspec": {
   "display_name": "esbmc-ai",
   "language": "python",
   "name": "esbmc-ai"
  },
  "language_info": {
   "codemirror_mode": {
    "name": "ipython",
    "version": 3
   },
   "file_extension": ".py",
   "mimetype": "text/x-python",
   "name": "python",
   "nbconvert_exporter": "python",
   "pygments_lexer": "ipython3",
   "version": "3.11.3"
  },
  "vscode": {
   "interpreter": {
    "hash": "499826743859651d59dbb0bffa17859284d56b5020e06365416c8f6de25a6949"
   }
  }
 },
 "nbformat": 4,
 "nbformat_minor": 4
}
